{
 "cells": [
  {
   "cell_type": "code",
   "execution_count": 1,
   "metadata": {
    "collapsed": false
   },
   "outputs": [],
   "source": [
    "import pandas as pd\n",
    "import numpy as np\n",
    "import os, sys\n",
    "from collections import defaultdict, Counter"
   ]
  },
  {
   "cell_type": "code",
   "execution_count": 4,
   "metadata": {
    "collapsed": false
   },
   "outputs": [],
   "source": [
    "df_session = pd.read_csv(\"data/session/session_reduced_2016-04-01.csv\", sep = \";\")\n",
    "df_purchase = pd.read_csv(\"data/purchase/purchase_2016-04-01.csv\", sep = \";\")\n",
    "\n",
    "df_session.shape\n",
    "\n",
    "df_purchase.shape\n",
    "\n",
    "session_dict = {}\n",
    "for my_id,search_id, prop60 in df_session.values:\n",
    "    key = (my_id, search_id)\n",
    "    session_dict[key] = prop60.split(\":\")\n",
    "\n",
    "tot = []\n",
    "for my_id, search_id, product_id_buy in df_purchase.values:\n",
    "    key = (my_id, search_id)\n",
    "    if key in session_dict:\n",
    "        top6 = session_dict[key]\n",
    "        if product_id_buy in top6:\n",
    "            pos = top6.index(product_id_buy)\n",
    "            tot.append(pos)\n",
    "        else:\n",
    "            tot.append(100)\n",
    "\n",
    "cnt = Counter(tot)\n",
    "\n",
    "cnt.most_common()\n",
    "\n",
    "#### find ranking change\n",
    "\n",
    "ranking_dict = defaultdict(lambda: defaultdict(int))\n",
    "\n",
    "session_dict = {}\n",
    "for my_id,search_id, prop60 in df_session.values:\n",
    "    key = (my_id, search_id)\n",
    "    session_dict[key] = prop60.split(\":\")\n",
    "    \n",
    "    \n",
    "for my_id, search_id, product_id_buy in df_purchase.values:\n",
    "    key = (my_id, search_id)\n",
    "    if key in session_dict:\n",
    "        top6 = session_dict[key]\n",
    "        if product_id_buy in top6:\n",
    "            pos = top6.index(product_id_buy)\n",
    "            ranking_dict[(search_id, product_id_buy)][pos]+=1\n",
    "        else:\n",
    "            ranking_dict[(search_id, product_id_buy)][100]+=1\n",
    "\n",
    "out = []\n",
    "for key, mydict in ranking_dict.items():\n",
    "    if len(mydict) > 1:\n",
    "        for k, v in mydict.items():\n",
    "            out.append((key[0], key[1], k, v))\n",
    "out_df = pd.DataFrame(out, columns = ['search_id', 'product_id', 'position', 'count'])\n",
    "out_df.sort_values(['search_id', 'product_id', 'count'])\n",
    "out_df.to_csv(\"data/position_stat.csv\", index = False, header = True, sep = \";\")"
   ]
  }
 ],
 "metadata": {
  "kernelspec": {
   "display_name": "Python 3",
   "language": "python",
   "name": "python3"
  },
  "language_info": {
   "codemirror_mode": {
    "name": "ipython",
    "version": 3
   },
   "file_extension": ".py",
   "mimetype": "text/x-python",
   "name": "python",
   "nbconvert_exporter": "python",
   "pygments_lexer": "ipython3",
   "version": "3.5.1"
  }
 },
 "nbformat": 4,
 "nbformat_minor": 0
}
